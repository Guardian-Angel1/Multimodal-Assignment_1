{
 "cells": [
  {
   "cell_type": "markdown",
   "metadata": {},
   "source": [
    "\n",
    "\n",
    "# **Named Entity Recognition (NER) on Tech_Intel Dataset**  \n",
    "\n",
    "### **Overview**  \n",
    "This project performs **Named Entity Recognition (NER)** on a dataset of **20 text files**, categorized into different topic-based folders. The extracted entities are saved in a structured format for further analysis.  \n",
    "\n",
    "\n",
    "\n",
    "## **🔹 Steps in the Code**\n",
    "1. **Load all text files** from category-based folders.\n",
    "2. **Perform Named Entity Recognition (NER)** using **spaCy**.\n",
    "3. **Extract named entities** like **Organizations (ORG)**, **Dates (DATE)**, **People (PERSON)**, and more.\n",
    "4. **Save results to a CSV file** (`ner_results.csv`) for further analysis.\n",
    "\n",
    "\n",
    "\n",
    "## **🔹 Installation**  \n",
    "Install the required dependencies using the following commands:  \n",
    "```bash\n",
    "pip install spacy pandas\n",
    "python -m spacy download en_core_web_sm\n",
    "```\n",
    "\n",
    "\n",
    "## **🔹 Expected Output (CSV Example)**  \n",
    "| **File**  | **Category** | **Entity**  | **Entity Type** |\n",
    "|-----------|-------------|-------------|-----------------|\n",
    "| data.txt  | AI & ML     | OpenAI      | ORG            |\n",
    "| data.txt  | AI & ML     | 2024        | DATE           |\n",
    "| data.txt  | AI & ML     | Google      | ORG            |\n",
    "| news.txt  | Cybersecurity | Microsoft | ORG            |\n",
    "| news.txt  | Cybersecurity | 2003      | DATE           |\n"
   ]
  },
  {
   "cell_type": "code",
   "execution_count": 13,
   "metadata": {},
   "outputs": [],
   "source": [
    "# pip install spacy pandas\n",
    "# python -m spacy download en_core_web_sm"
   ]
  },
  {
   "cell_type": "code",
   "execution_count": 6,
   "metadata": {},
   "outputs": [],
   "source": [
    "import spacy\n",
    "import os\n",
    "import pandas as pd"
   ]
  },
  {
   "cell_type": "code",
   "execution_count": 7,
   "metadata": {},
   "outputs": [],
   "source": [
    "nlp = spacy.load(\"en_core_web_sm\")\n"
   ]
  },
  {
   "cell_type": "code",
   "execution_count": 8,
   "metadata": {},
   "outputs": [],
   "source": [
    "dataset_path = \"tech_intel\""
   ]
  },
  {
   "cell_type": "code",
   "execution_count": 9,
   "metadata": {},
   "outputs": [],
   "source": [
    "data = []"
   ]
  },
  {
   "cell_type": "code",
   "execution_count": 10,
   "metadata": {},
   "outputs": [],
   "source": [
    "for category in os.listdir(dataset_path):\n",
    "    category_path = os.path.join(dataset_path, category)\n",
    "\n",
    "    # Ensure it's a directory\n",
    "    if os.path.isdir(category_path):\n",
    "        for filename in os.listdir(category_path):\n",
    "            if filename.endswith(\".txt\"):\n",
    "                file_path = os.path.join(category_path, filename)\n",
    "\n",
    "                # Read the text content\n",
    "                with open(file_path, \"r\", encoding=\"utf-8\") as file:\n",
    "                    text = file.read()\n",
    "\n",
    "                # Process text using spaCy\n",
    "                doc = nlp(text)\n",
    "\n",
    "                # Extract named entities\n",
    "                for ent in doc.ents:\n",
    "                    data.append([filename, category, ent.text, ent.label_])"
   ]
  },
  {
   "cell_type": "code",
   "execution_count": 11,
   "metadata": {},
   "outputs": [],
   "source": [
    "df = pd.DataFrame(data, columns=[\"File\", \"Category\", \"Entity\", \"Entity Type\"])\n",
    "df.to_csv(\"ner_results.csv\", index=False)"
   ]
  }
 ],
 "metadata": {
  "kernelspec": {
   "display_name": "Python 3",
   "language": "python",
   "name": "python3"
  },
  "language_info": {
   "codemirror_mode": {
    "name": "ipython",
    "version": 3
   },
   "file_extension": ".py",
   "mimetype": "text/x-python",
   "name": "python",
   "nbconvert_exporter": "python",
   "pygments_lexer": "ipython3",
   "version": "3.12.6"
  }
 },
 "nbformat": 4,
 "nbformat_minor": 2
}
